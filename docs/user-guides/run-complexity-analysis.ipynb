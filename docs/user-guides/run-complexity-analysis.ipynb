{
  "cells": [
    {
      "attachments": {},
      "cell_type": "markdown",
      "metadata": {},
      "source": [
        "# Complexity Analysis\n",
        "\n",
        "You can try this tutorial on [Google Colab](https://colab.research.google.com/github/TUMT2022/LDIMBench/blob/main/docs/user-guides/run-complexity-analysis.ipynb)!\n",
        "\n",
        "This guide will show you how to develop your own leakage detection method (in python, there are [other options](/docs/user-guides/docker.md) as well!) and benchmark it against the other methods in the benchmark suite."
      ]
    },
    {
      "attachments": {},
      "cell_type": "markdown",
      "metadata": {},
      "source": [
        "First install the package:"
      ]
    },
    {
      "cell_type": "code",
      "execution_count": 1,
      "metadata": {},
      "outputs": [
        {
          "name": "stdout",
          "output_type": "stream",
          "text": [
            "Requirement already satisfied: ldimbenchmark in /home/azureuser/LDIMBench/.venv/lib/python3.8/site-packages (0.1.17)\n",
            "Requirement already satisfied: pyyaml<7.0,>=6.0 in /home/azureuser/LDIMBench/.venv/lib/python3.8/site-packages (from ldimbenchmark) (6.0)\n",
            "Requirement already satisfied: pydantic<2.0.0,>=1.10.2 in /home/azureuser/LDIMBench/.venv/lib/python3.8/site-packages (from ldimbenchmark) (1.10.2)\n",
            "Requirement already satisfied: tabulate<0.10.0,>=0.9.0 in /home/azureuser/LDIMBench/.venv/lib/python3.8/site-packages (from ldimbenchmark) (0.9.0)\n",
            "Requirement already satisfied: big-o<0.11.0,>=0.10.2 in /home/azureuser/LDIMBench/.venv/lib/python3.8/site-packages (from ldimbenchmark) (0.10.2)\n",
            "Requirement already satisfied: numpy<2.0.0,>=1.23.5 in /home/azureuser/LDIMBench/.venv/lib/python3.8/site-packages (from ldimbenchmark) (1.23.5)\n",
            "Requirement already satisfied: scikit-learn<2.0.0,>=1.1.3 in /home/azureuser/LDIMBench/.venv/lib/python3.8/site-packages (from ldimbenchmark) (1.1.3)\n",
            "Requirement already satisfied: jinja2<4.0.0,>=3.1.2 in /home/azureuser/LDIMBench/.venv/lib/python3.8/site-packages (from ldimbenchmark) (3.1.2)\n",
            "Requirement already satisfied: pandas<2.0.0,>=1.5.2 in /home/azureuser/LDIMBench/.venv/lib/python3.8/site-packages (from ldimbenchmark) (1.5.2)\n",
            "Requirement already satisfied: click<9.0.0,>=8.1.3 in /home/azureuser/LDIMBench/.venv/lib/python3.8/site-packages (from ldimbenchmark) (8.1.3)\n",
            "Requirement already satisfied: wntr<0.6.0,>=0.5.0 in /home/azureuser/LDIMBench/.venv/lib/python3.8/site-packages (from ldimbenchmark) (0.5.0)\n",
            "Requirement already satisfied: docker<7.0.0,>=6.0.1 in /home/azureuser/LDIMBench/.venv/lib/python3.8/site-packages (from ldimbenchmark) (6.0.1)\n",
            "Requirement already satisfied: tqdm<5.0.0,>=4.64.1 in /home/azureuser/LDIMBench/.venv/lib/python3.8/site-packages (from ldimbenchmark) (4.64.1)\n",
            "Requirement already satisfied: websocket-client>=0.32.0 in /home/azureuser/LDIMBench/.venv/lib/python3.8/site-packages (from docker<7.0.0,>=6.0.1->ldimbenchmark) (1.4.2)\n",
            "Requirement already satisfied: requests>=2.26.0 in /home/azureuser/LDIMBench/.venv/lib/python3.8/site-packages (from docker<7.0.0,>=6.0.1->ldimbenchmark) (2.28.1)\n",
            "Requirement already satisfied: urllib3>=1.26.0 in /home/azureuser/LDIMBench/.venv/lib/python3.8/site-packages (from docker<7.0.0,>=6.0.1->ldimbenchmark) (1.26.13)\n",
            "Requirement already satisfied: packaging>=14.0 in /home/azureuser/LDIMBench/.venv/lib/python3.8/site-packages (from docker<7.0.0,>=6.0.1->ldimbenchmark) (21.3)\n",
            "Requirement already satisfied: MarkupSafe>=2.0 in /home/azureuser/LDIMBench/.venv/lib/python3.8/site-packages (from jinja2<4.0.0,>=3.1.2->ldimbenchmark) (2.1.1)\n",
            "Requirement already satisfied: python-dateutil>=2.8.1 in /home/azureuser/LDIMBench/.venv/lib/python3.8/site-packages (from pandas<2.0.0,>=1.5.2->ldimbenchmark) (2.8.2)\n",
            "Requirement already satisfied: pytz>=2020.1 in /home/azureuser/LDIMBench/.venv/lib/python3.8/site-packages (from pandas<2.0.0,>=1.5.2->ldimbenchmark) (2022.6)\n",
            "Requirement already satisfied: typing-extensions>=4.1.0 in /home/azureuser/LDIMBench/.venv/lib/python3.8/site-packages (from pydantic<2.0.0,>=1.10.2->ldimbenchmark) (4.4.0)\n",
            "Requirement already satisfied: threadpoolctl>=2.0.0 in /home/azureuser/LDIMBench/.venv/lib/python3.8/site-packages (from scikit-learn<2.0.0,>=1.1.3->ldimbenchmark) (3.1.0)\n",
            "Requirement already satisfied: joblib>=1.0.0 in /home/azureuser/LDIMBench/.venv/lib/python3.8/site-packages (from scikit-learn<2.0.0,>=1.1.3->ldimbenchmark) (1.2.0)\n",
            "Requirement already satisfied: scipy>=1.3.2 in /home/azureuser/LDIMBench/.venv/lib/python3.8/site-packages (from scikit-learn<2.0.0,>=1.1.3->ldimbenchmark) (1.9.3)\n",
            "Requirement already satisfied: networkx in /home/azureuser/LDIMBench/.venv/lib/python3.8/site-packages (from wntr<0.6.0,>=0.5.0->ldimbenchmark) (2.8.8)\n",
            "Requirement already satisfied: matplotlib in /home/azureuser/LDIMBench/.venv/lib/python3.8/site-packages (from wntr<0.6.0,>=0.5.0->ldimbenchmark) (3.6.2)\n",
            "Requirement already satisfied: pyparsing!=3.0.5,>=2.0.2 in /home/azureuser/LDIMBench/.venv/lib/python3.8/site-packages (from packaging>=14.0->docker<7.0.0,>=6.0.1->ldimbenchmark) (3.0.9)\n",
            "Requirement already satisfied: six>=1.5 in /home/azureuser/LDIMBench/.venv/lib/python3.8/site-packages (from python-dateutil>=2.8.1->pandas<2.0.0,>=1.5.2->ldimbenchmark) (1.16.0)\n",
            "Requirement already satisfied: idna<4,>=2.5 in /home/azureuser/LDIMBench/.venv/lib/python3.8/site-packages (from requests>=2.26.0->docker<7.0.0,>=6.0.1->ldimbenchmark) (3.4)\n",
            "Requirement already satisfied: charset-normalizer<3,>=2 in /home/azureuser/LDIMBench/.venv/lib/python3.8/site-packages (from requests>=2.26.0->docker<7.0.0,>=6.0.1->ldimbenchmark) (2.1.1)\n",
            "Requirement already satisfied: certifi>=2017.4.17 in /home/azureuser/LDIMBench/.venv/lib/python3.8/site-packages (from requests>=2.26.0->docker<7.0.0,>=6.0.1->ldimbenchmark) (2022.9.24)\n",
            "Requirement already satisfied: fonttools>=4.22.0 in /home/azureuser/LDIMBench/.venv/lib/python3.8/site-packages (from matplotlib->wntr<0.6.0,>=0.5.0->ldimbenchmark) (4.38.0)\n",
            "Requirement already satisfied: pillow>=6.2.0 in /home/azureuser/LDIMBench/.venv/lib/python3.8/site-packages (from matplotlib->wntr<0.6.0,>=0.5.0->ldimbenchmark) (9.3.0)\n",
            "Requirement already satisfied: kiwisolver>=1.0.1 in /home/azureuser/LDIMBench/.venv/lib/python3.8/site-packages (from matplotlib->wntr<0.6.0,>=0.5.0->ldimbenchmark) (1.4.4)\n",
            "Requirement already satisfied: cycler>=0.10 in /home/azureuser/LDIMBench/.venv/lib/python3.8/site-packages (from matplotlib->wntr<0.6.0,>=0.5.0->ldimbenchmark) (0.11.0)\n",
            "Requirement already satisfied: contourpy>=1.0.1 in /home/azureuser/LDIMBench/.venv/lib/python3.8/site-packages (from matplotlib->wntr<0.6.0,>=0.5.0->ldimbenchmark) (1.0.6)\n"
          ]
        }
      ],
      "source": [
        "# Run this in Google Colab:\n",
        "!pip install ldimbenchmark\n",
        "%load_ext autoreload\n",
        "%autoreload 2"
      ]
    },
    {
      "attachments": {},
      "cell_type": "markdown",
      "metadata": {},
      "source": [
        "Load or define the methods you want to benchmark:"
      ]
    },
    {
      "cell_type": "code",
      "execution_count": 2,
      "metadata": {},
      "outputs": [],
      "source": [
        "from ldimbenchmark.methods import LILA, MNF\n",
        "\n",
        "methods = [MNF(), LILA()]"
      ]
    },
    {
      "attachments": {},
      "cell_type": "markdown",
      "metadata": {},
      "source": [
        "Prepare the Benchmark:"
      ]
    },
    {
      "cell_type": "code",
      "execution_count": 3,
      "metadata": {},
      "outputs": [],
      "source": [
        "from ldimbenchmark import LDIMBenchmark\n",
        "\n",
        "benchmark = LDIMBenchmark({}, [], results_dir=\"./benchmark-results\")\n",
        "benchmark.add_local_methods(methods)\n",
        "\n"
      ]
    },
    {
      "attachments": {},
      "cell_type": "markdown",
      "metadata": {},
      "source": [
        "Run and evaluate the benchmark (this can take a while):"
      ]
    },
    {
      "cell_type": "code",
      "execution_count": 9,
      "metadata": {},
      "outputs": [
        {
          "name": "stderr",
          "output_type": "stream",
          "text": [
            "100%|██████████| 60/60 [00:00<00:00, 34178.76it/s]\n",
            "100%|██████████| 60/60 [00:02<00:00, 29.32it/s]\n"
          ]
        }
      ],
      "source": [
        "# for time complexity\n",
        "results = benchmark.run_complexity_analysis(\n",
        "    methods=methods,\n",
        "    style=\"time\",\n",
        ")\n",
        "\n"
      ]
    },
    {
      "cell_type": "code",
      "execution_count": 10,
      "metadata": {},
      "outputs": [
        {
          "data": {
            "text/html": [
              "<div>\n",
              "<style scoped>\n",
              "    .dataframe tbody tr th:only-of-type {\n",
              "        vertical-align: middle;\n",
              "    }\n",
              "\n",
              "    .dataframe tbody tr th {\n",
              "        vertical-align: top;\n",
              "    }\n",
              "\n",
              "    .dataframe thead th {\n",
              "        text-align: right;\n",
              "    }\n",
              "</style>\n",
              "<table border=\"1\" class=\"dataframe\">\n",
              "  <thead>\n",
              "    <tr style=\"text-align: right;\">\n",
              "      <th></th>\n",
              "      <th>Leakage Detection Method</th>\n",
              "      <th>Time Complexity</th>\n",
              "    </tr>\n",
              "  </thead>\n",
              "  <tbody>\n",
              "    <tr>\n",
              "      <th>0</th>\n",
              "      <td>MNF</td>\n",
              "      <td>Quadratic: time = -2.2E-05 + 1.8E-06*n^2 (sec)</td>\n",
              "    </tr>\n",
              "    <tr>\n",
              "      <th>1</th>\n",
              "      <td>LILA</td>\n",
              "      <td>Exponential: time = 0.85 * 0.044^n (sec)</td>\n",
              "    </tr>\n",
              "  </tbody>\n",
              "</table>\n",
              "</div>"
            ],
            "text/plain": [
              "  Leakage Detection Method                                 Time Complexity\n",
              "0                      MNF  Quadratic: time = -2.2E-05 + 1.8E-06*n^2 (sec)\n",
              "1                     LILA        Exponential: time = 0.85 * 0.044^n (sec)"
            ]
          },
          "execution_count": 10,
          "metadata": {},
          "output_type": "execute_result"
        }
      ],
      "source": [
        "results"
      ]
    },
    {
      "cell_type": "code",
      "execution_count": null,
      "metadata": {},
      "outputs": [],
      "source": [
        "\n",
        "# for network size complexity\n",
        "benchmark.run_complexity_analysis(\n",
        "    methods=methods,\n",
        "    style=\"junctions\",\n",
        ")"
      ]
    }
  ],
  "metadata": {
    "kernelspec": {
      "display_name": ".venv",
      "language": "python",
      "name": "python3"
    },
    "language_info": {
      "codemirror_mode": {
        "name": "ipython",
        "version": 3
      },
      "file_extension": ".py",
      "mimetype": "text/x-python",
      "name": "python",
      "nbconvert_exporter": "python",
      "pygments_lexer": "ipython3",
      "version": "3.8.10 (default, Nov 14 2022, 12:59:47) \n[GCC 9.4.0]"
    },
    "orig_nbformat": 4,
    "vscode": {
      "interpreter": {
        "hash": "1def39f3e81716e9789ef495dff95abc2f5f5d168280a92e70339f3e4a916016"
      }
    }
  },
  "nbformat": 4,
  "nbformat_minor": 2
}
