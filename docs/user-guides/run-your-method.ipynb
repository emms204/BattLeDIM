{
  "cells": [
    {
      "attachments": {},
      "cell_type": "markdown",
      "metadata": {},
      "source": [
        "# Implement a new Method\n",
        "\n",
        "You can try this tutorial on [Google Colab](https://colab.research.google.com/github/TUMT2022/LDIMBench/blob/main/docs/user-guides/run-your-method.ipynb)!\n",
        "\n",
        "This guide will show you how to develop your own leakage detection method (in python, there are [other options](/docs/user-guides/docker.md) as well!) and benchmark it against the other methods in the benchmark suite."
      ]
    },
    {
      "attachments": {},
      "cell_type": "markdown",
      "metadata": {},
      "source": [
        "First install the package:"
      ]
    },
    {
      "cell_type": "code",
      "execution_count": 1,
      "metadata": {},
      "outputs": [
        {
          "name": "stdout",
          "output_type": "stream",
          "text": [
            "Collecting ldimbenchmark\n",
            "  Downloading ldimbenchmark-0.1.17-py3-none-any.whl (40 kB)\n",
            "\u001b[K     |████████████████████████████████| 40 kB 2.5 MB/s eta 0:00:011\n",
            "\u001b[?25hCollecting pandas<2.0.0,>=1.5.2\n",
            "  Downloading pandas-1.5.2-cp38-cp38-manylinux_2_17_x86_64.manylinux2014_x86_64.whl (12.2 MB)\n",
            "\u001b[K     |████████████████████████████████| 12.2 MB 6.4 MB/s eta 0:00:01\n",
            "\u001b[?25hCollecting tqdm<5.0.0,>=4.64.1\n",
            "  Using cached tqdm-4.64.1-py2.py3-none-any.whl (78 kB)\n",
            "Collecting big-o<0.11.0,>=0.10.2\n",
            "  Using cached big_O-0.10.2.tar.gz (10 kB)\n",
            "Collecting click<9.0.0,>=8.1.3\n",
            "  Using cached click-8.1.3-py3-none-any.whl (96 kB)\n",
            "Collecting wntr<0.6.0,>=0.5.0\n",
            "  Downloading wntr-0.5.0-cp38-cp38-manylinux_2_17_x86_64.manylinux2014_x86_64.whl (4.0 MB)\n",
            "\u001b[K     |████████████████████████████████| 4.0 MB 74.9 MB/s eta 0:00:01\n",
            "\u001b[?25hCollecting scikit-learn<2.0.0,>=1.1.3\n",
            "  Downloading scikit_learn-1.2.0-cp38-cp38-manylinux_2_17_x86_64.manylinux2014_x86_64.whl (9.7 MB)\n",
            "\u001b[K     |████████████████████████████████| 9.7 MB 92.3 MB/s eta 0:00:01\n",
            "\u001b[?25hCollecting docker<7.0.0,>=6.0.1\n",
            "  Using cached docker-6.0.1-py3-none-any.whl (147 kB)\n",
            "Collecting tabulate<0.10.0,>=0.9.0\n",
            "  Using cached tabulate-0.9.0-py3-none-any.whl (35 kB)\n",
            "Collecting pydantic<2.0.0,>=1.10.2\n",
            "  Downloading pydantic-1.10.2-cp38-cp38-manylinux_2_17_x86_64.manylinux2014_x86_64.whl (13.6 MB)\n",
            "\u001b[K     |████████████████████████████████| 13.6 MB 96.6 MB/s eta 0:00:01\n",
            "\u001b[?25hCollecting pyyaml<7.0,>=6.0\n",
            "  Downloading PyYAML-6.0-cp38-cp38-manylinux_2_5_x86_64.manylinux1_x86_64.manylinux_2_12_x86_64.manylinux2010_x86_64.whl (701 kB)\n",
            "\u001b[K     |████████████████████████████████| 701 kB 108.9 MB/s eta 0:00:01\n",
            "\u001b[?25hCollecting pytz>=2020.1\n",
            "  Using cached pytz-2022.6-py2.py3-none-any.whl (498 kB)\n",
            "Requirement already satisfied: python-dateutil>=2.8.1 in /home/azureuser/.local/lib/python3.8/site-packages (from pandas<2.0.0,>=1.5.2->ldimbenchmark) (2.8.2)\n",
            "Collecting numpy>=1.20.3; python_version < \"3.10\"\n",
            "  Downloading numpy-1.23.5-cp38-cp38-manylinux_2_17_x86_64.manylinux2014_x86_64.whl (17.1 MB)\n",
            "\u001b[K     |████████████████████████████████| 17.1 MB 81.8 MB/s eta 0:00:01\n",
            "\u001b[?25hCollecting scipy\n",
            "  Downloading scipy-1.9.3-cp38-cp38-manylinux_2_17_x86_64.manylinux2014_x86_64.whl (33.8 MB)\n",
            "\u001b[K     |████████████████████████████████| 33.8 MB 106.0 MB/s eta 0:00:01\n",
            "\u001b[?25hCollecting networkx\n",
            "  Using cached networkx-2.8.8-py3-none-any.whl (2.0 MB)\n",
            "Collecting matplotlib\n",
            "  Downloading matplotlib-3.6.2-cp38-cp38-manylinux_2_12_x86_64.manylinux2010_x86_64.whl (9.4 MB)\n",
            "\u001b[K     |████████████████████████████████| 9.4 MB 107.0 MB/s eta 0:00:01     |██▋                             | 778 kB 107.0 MB/s eta 0:00:01\n",
            "\u001b[?25hCollecting joblib>=1.1.1\n",
            "  Using cached joblib-1.2.0-py3-none-any.whl (297 kB)\n",
            "Collecting threadpoolctl>=2.0.0\n",
            "  Using cached threadpoolctl-3.1.0-py3-none-any.whl (14 kB)\n",
            "Collecting requests>=2.26.0\n",
            "  Using cached requests-2.28.1-py3-none-any.whl (62 kB)\n",
            "Requirement already satisfied: packaging>=14.0 in /home/azureuser/.local/lib/python3.8/site-packages (from docker<7.0.0,>=6.0.1->ldimbenchmark) (22.0)\n",
            "Collecting websocket-client>=0.32.0\n",
            "  Using cached websocket_client-1.4.2-py3-none-any.whl (55 kB)\n",
            "Requirement already satisfied: urllib3>=1.26.0 in /home/azureuser/.local/lib/python3.8/site-packages (from docker<7.0.0,>=6.0.1->ldimbenchmark) (1.26.13)\n",
            "Collecting typing-extensions>=4.1.0\n",
            "  Using cached typing_extensions-4.4.0-py3-none-any.whl (26 kB)\n",
            "Requirement already satisfied: six>=1.5 in /usr/lib/python3/dist-packages (from python-dateutil>=2.8.1->pandas<2.0.0,>=1.5.2->ldimbenchmark) (1.14.0)\n",
            "Collecting pillow>=6.2.0\n",
            "  Downloading Pillow-9.3.0-cp38-cp38-manylinux_2_17_x86_64.manylinux2014_x86_64.whl (3.2 MB)\n",
            "\u001b[K     |████████████████████████████████| 3.2 MB 96.5 MB/s eta 0:00:01\n",
            "\u001b[?25hCollecting pyparsing>=2.2.1\n",
            "  Using cached pyparsing-3.0.9-py3-none-any.whl (98 kB)\n",
            "Collecting kiwisolver>=1.0.1\n",
            "  Downloading kiwisolver-1.4.4-cp38-cp38-manylinux_2_5_x86_64.manylinux1_x86_64.whl (1.2 MB)\n",
            "\u001b[K     |████████████████████████████████| 1.2 MB 95.8 MB/s eta 0:00:01\n",
            "\u001b[?25hCollecting contourpy>=1.0.1\n",
            "  Downloading contourpy-1.0.6-cp38-cp38-manylinux_2_17_x86_64.manylinux2014_x86_64.whl (295 kB)\n",
            "\u001b[K     |████████████████████████████████| 295 kB 109.6 MB/s eta 0:00:01\n",
            "\u001b[?25hCollecting fonttools>=4.22.0\n",
            "  Using cached fonttools-4.38.0-py3-none-any.whl (965 kB)\n",
            "Collecting cycler>=0.10\n",
            "  Using cached cycler-0.11.0-py3-none-any.whl (6.4 kB)\n",
            "Collecting charset-normalizer<3,>=2\n",
            "  Using cached charset_normalizer-2.1.1-py3-none-any.whl (39 kB)\n",
            "Requirement already satisfied: idna<4,>=2.5 in /usr/lib/python3/dist-packages (from requests>=2.26.0->docker<7.0.0,>=6.0.1->ldimbenchmark) (2.8)\n",
            "Requirement already satisfied: certifi>=2017.4.17 in /usr/lib/python3/dist-packages (from requests>=2.26.0->docker<7.0.0,>=6.0.1->ldimbenchmark) (2019.11.28)\n",
            "Building wheels for collected packages: big-o\n",
            "  Building wheel for big-o (setup.py) ... \u001b[?25ldone\n",
            "\u001b[?25h  Created wheel for big-o: filename=big_O-0.10.2-py3-none-any.whl size=10035 sha256=c3fbc9ee75a79ac1efb1d2034b57c23be3a933c21b91b1a2a365f1f4ea5b90af\n",
            "  Stored in directory: /home/azureuser/.cache/pip/wheels/75/6b/38/c71a899ef5d0694d633e09160b63901a23e8be1772744d8817\n",
            "Successfully built big-o\n",
            "Installing collected packages: pytz, numpy, pandas, tqdm, big-o, click, scipy, networkx, pillow, pyparsing, kiwisolver, contourpy, fonttools, cycler, matplotlib, wntr, joblib, threadpoolctl, scikit-learn, charset-normalizer, requests, websocket-client, docker, tabulate, typing-extensions, pydantic, pyyaml, ldimbenchmark\n",
            "Successfully installed big-o-0.10.2 charset-normalizer-2.1.1 click-8.1.3 contourpy-1.0.6 cycler-0.11.0 docker-6.0.1 fonttools-4.38.0 joblib-1.2.0 kiwisolver-1.4.4 ldimbenchmark-0.1.17 matplotlib-3.6.2 networkx-2.8.8 numpy-1.23.5 pandas-1.5.2 pillow-9.3.0 pydantic-1.10.2 pyparsing-3.0.9 pytz-2022.6 pyyaml-6.0 requests-2.28.1 scikit-learn-1.2.0 scipy-1.9.3 tabulate-0.9.0 threadpoolctl-3.1.0 tqdm-4.64.1 typing-extensions-4.4.0 websocket-client-1.4.2 wntr-0.5.0\n"
          ]
        }
      ],
      "source": [
        "# Run this in Google Colab:\n",
        "!python3 --version\n",
        "!pip uninstall google-colab community flask -y  # Workaround for GoogleColab beeing out of date\n",
        "!pip install ipython ipykernel --upgrade        # https://github.com/googlecolab/colabtools/issues/2230\n",
        "!pip install ldimbenchmark"
      ]
    },
    {
      "attachments": {},
      "cell_type": "markdown",
      "metadata": {},
      "source": [
        "Define your Leakage Detection Method (here you can read more about the [programming interface](/docs/design/programming-interface.md)):\n"
      ]
    },
    {
      "cell_type": "code",
      "execution_count": 1,
      "metadata": {},
      "outputs": [],
      "source": [
        "from ldimbenchmark import LDIMMethodBase, BenchmarkData, BenchmarkLeakageResult\n",
        "from ldimbenchmark.classes import MethodMetadata, Hyperparameter\n",
        "from typing import List\n",
        "import random\n",
        "\n",
        "# Your method should inherit from LDIMMethodBase\n",
        "# It should implement all abstract methods\n",
        "class MyNewLeakageDetectionMethod(LDIMMethodBase):\n",
        "    \"\"\"\n",
        "    MyNewLeakageDetectionMethod\n",
        "    \"\"\"\n",
        "\n",
        "    def __init__(self):\n",
        "        # Provide information about your method in the super call\n",
        "        super().__init__(\n",
        "            name=\"NEWMETHOD\",\n",
        "            version=\"1.0\",\n",
        "            metadata=MethodMetadata(\n",
        "                data_needed=[\"pressures\", \"demands\", \"flows\", \"levels\"],\n",
        "                hyperparameters=[\n",
        "                    Hyperparameter(\n",
        "                        name=\"random\",\n",
        "                        description=\"The Random percentage of detecing a leakage\",\n",
        "                        default=0.5,\n",
        "                        max=1.0,\n",
        "                        min=0.0,\n",
        "                        type=float,\n",
        "                    ),\n",
        "                ],\n",
        "            )\n",
        "        )\n",
        "\n",
        "    def train(self, train_data: BenchmarkData) -> None:\n",
        "        return\n",
        "\n",
        "    def detect(self, evaluation_data: BenchmarkData) -> List[BenchmarkLeakageResult]:\n",
        "        return []\n",
        "\n",
        "    def detect_datapoint(self, evaluation_data) -> BenchmarkLeakageResult:\n",
        "        return BenchmarkLeakageResult(\n",
        "                    leak_pipe_id=\"<your_pipe_id>\",\n",
        "                    leak_pipe_nodes=\"<your_leak_pipe_nodes>\",\n",
        "                    leak_node=\"\",\n",
        "                    leak_diameter=\"\",\n",
        "                    leak_area=\"\",\n",
        "                    leak_type=\"\",\n",
        "                    leak_time_start=\"\",\n",
        "                    leak_time_peak=\"\",\n",
        "                    leak_time_end=\"\",\n",
        "                ) if random() < 0.5 else None\n"
      ]
    },
    {
      "attachments": {},
      "cell_type": "markdown",
      "metadata": {},
      "source": [
        "To test your method we need a dataset. We provide a few datasets in the [datasets namespace](#). You can also use your own dataset (see [run on your dataset guide](/docs/user-guides/run-on-your-dataset.ipynb))."
      ]
    },
    {
      "cell_type": "code",
      "execution_count": 2,
      "metadata": {},
      "outputs": [
        {
          "name": "stdout",
          "output_type": "stream",
          "text": [
            "Downloading dataset: battledim\n",
            "Dataset already downloaded\n"
          ]
        }
      ],
      "source": [
        "from ldimbenchmark.datasets import Dataset, DatasetLibrary, DATASETS\n",
        "\n",
        "datasets = DatasetLibrary(\"datasets\").download(DATASETS.BATTLEDIM)"
      ]
    },
    {
      "attachments": {},
      "cell_type": "markdown",
      "metadata": {},
      "source": [
        "We can now define the Benchmark and its parameters:"
      ]
    },
    {
      "cell_type": "code",
      "execution_count": 3,
      "metadata": {},
      "outputs": [],
      "source": [
        "from ldimbenchmark import LDIMBenchmark\n",
        "\n",
        "hyperparameters = {\n",
        "    \"NEWMETHOD\": {\n",
        "        \"battledim\": {\n",
        "            \"random\": 0.1,\n",
        "        }\n",
        "    }\n",
        "}\n",
        "\n",
        "benchmark = LDIMBenchmark(\n",
        "    hyperparameters,\n",
        "    datasets,\n",
        "    results_dir=\"./benchmark-results\",\n",
        "    debug=True,\n",
        ")\n",
        "benchmark.add_local_methods([MyNewLeakageDetectionMethod()])"
      ]
    },
    {
      "attachments": {},
      "cell_type": "markdown",
      "metadata": {},
      "source": [
        "Finally we can run and evaluate the benchmark:"
      ]
    },
    {
      "cell_type": "code",
      "execution_count": 4,
      "metadata": {},
      "outputs": [
        {
          "name": "stdout",
          "output_type": "stream",
          "text": [
            "                              TP    FP  TN      FN  TTD      wrongpipe    score    precision    recall (TPR)    TNR    FPR    FNR    F1\n",
            "--------------------------  ----  ----  ----  ----  -----  -----------  -------  -----------  --------------  -----  -----  -----  ----\n",
            "('battledim', 'NEWMETHOD')     0     0          19                   0        0          nan               0    nan    nan      1   nan\n"
          ]
        }
      ],
      "source": [
        "# execute benchmark\n",
        "benchmark.run_benchmark()\n",
        "\n",
        "benchmark.evaluate()"
      ]
    }
  ],
  "metadata": {
    "kernelspec": {
      "display_name": ".venv",
      "language": "python",
      "name": "python3"
    },
    "language_info": {
      "codemirror_mode": {
        "name": "ipython",
        "version": 3
      },
      "file_extension": ".py",
      "mimetype": "text/x-python",
      "name": "python",
      "nbconvert_exporter": "python",
      "pygments_lexer": "ipython3"
    },
    "orig_nbformat": 4,
    "vscode": {
      "interpreter": {
        "hash": "4081592ad972524ab492f3f2673668475c4ca8d0b98f272a0899c2fcb142d955"
      }
    }
  },
  "nbformat": 4,
  "nbformat_minor": 2
}
